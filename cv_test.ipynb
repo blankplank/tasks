{
 "cells": [
  {
   "cell_type": "code",
   "execution_count": 1,
   "metadata": {
    "collapsed": true
   },
   "outputs": [],
   "source": [
    "# импорт библиотек\n",
    "import pandas as pd\n",
    "import datetime as dt"
   ]
  },
  {
   "cell_type": "code",
   "execution_count": 2,
   "metadata": {},
   "outputs": [],
   "source": [
    "# импорт csv\n",
    "table = pd.read_csv('TRD2.csv')\n",
    "table.Time = pd.to_datetime(table.Time).dt.time"
   ]
  },
  {
   "cell_type": "code",
   "execution_count": 3,
   "metadata": {},
   "outputs": [],
   "source": [
    "# функция поиска интервала\n",
    "def maxTrades(table, exchange='all', td=dt.timedelta(seconds=1)):\n",
    "    if exchange != 'all':\n",
    "        table = table[table.EXCHANGE == exchange]\n",
    "    max, stT, enT = 0, None, None\n",
    "    for index, row in table.iterrows():\n",
    "        start = row['Time']\n",
    "        delta = dt.datetime.combine(dt.date.today(), start)+td\n",
    "        end = delta.time()\n",
    "        seRange = table[(table['Time'] >= start) & (table['Time'] < end)]\n",
    "        length = len(seRange)\n",
    "        if  length > max:\n",
    "            max = length\n",
    "            stT = start\n",
    "            enT = seRange.tail(1).iloc[0]['Time']\n",
    "    print('Максимальное количество сделок в течение одной секунды было между\\n' + str(stT)[:-3] \n",
    "          + ' и ' + str(enT)[:-3] + '\\nВ этот интервал прошло ' + str(max) + ' сделок.\\n')"
   ]
  },
  {
   "cell_type": "code",
   "execution_count": 4,
   "metadata": {},
   "outputs": [
    {
     "name": "stdout",
     "output_type": "stream",
     "text": [
      "Максимальное количество сделок в течение одной секунды было между\n",
      "10:02:00.735 и 10:02:01.734\n",
      "В этот интервал прошло 516 сделок.\n",
      "\n",
      "Для биржи  Y :\n",
      "Максимальное количество сделок в течение одной секунды было между\n",
      "10:09:54.386 и 10:09:54.391\n",
      "В этот интервал прошло 12 сделок.\n",
      "\n",
      "Для биржи  V :\n",
      "Максимальное количество сделок в течение одной секунды было между\n",
      "10:12:01.057 и 10:12:01.082\n",
      "В этот интервал прошло 9 сделок.\n",
      "\n",
      "Для биржи  X :\n",
      "Максимальное количество сделок в течение одной секунды было между\n",
      "10:02:00.780 и 10:02:01.694\n",
      "В этот интервал прошло 9 сделок.\n",
      "\n",
      "Для биржи  J :\n",
      "Максимальное количество сделок в течение одной секунды было между\n",
      "10:09:54.386 и 10:09:54.387\n",
      "В этот интервал прошло 8 сделок.\n",
      "\n",
      "Для биржи  K :\n",
      "Максимальное количество сделок в течение одной секунды было между\n",
      "10:02:00.632 и 10:02:01.449\n",
      "В этот интервал прошло 133 сделок.\n",
      "\n",
      "Для биржи  P :\n",
      "Максимальное количество сделок в течение одной секунды было между\n",
      "10:14:23.576 и 10:14:24.482\n",
      "В этот интервал прошло 55 сделок.\n",
      "\n",
      "Для биржи  D :\n",
      "Максимальное количество сделок в течение одной секунды было между\n",
      "10:02:00.785 и 10:02:00.919\n",
      "В этот интервал прошло 47 сделок.\n",
      "\n",
      "Для биржи  Q :\n",
      "Максимальное количество сделок в течение одной секунды было между\n",
      "10:02:00.184 и 10:02:01.109\n",
      "В этот интервал прошло 243 сделок.\n",
      "\n",
      "Для биржи  B :\n",
      "Максимальное количество сделок в течение одной секунды было между\n",
      "10:13:00.435 и 10:13:01.301\n",
      "В этот интервал прошло 11 сделок.\n",
      "\n",
      "Для биржи  Z :\n",
      "Максимальное количество сделок в течение одной секунды было между\n",
      "10:02:00.632 и 10:02:01.110\n",
      "В этот интервал прошло 43 сделок.\n",
      "\n"
     ]
    }
   ],
   "source": [
    "# для всей таблицы\n",
    "maxTrades(table)\n",
    "# для каждой биржи\n",
    "exch = set(table.EXCHANGE)\n",
    "for i in exch:\n",
    "    print('Для биржи ',i, ':')\n",
    "    maxTrades(table, exchange=i)"
   ]
  }
 ],
 "metadata": {
  "kernelspec": {
   "display_name": "Python 3",
   "language": "python",
   "name": "python3"
  },
  "language_info": {
   "codemirror_mode": {
    "name": "ipython",
    "version": 3
   },
   "file_extension": ".py",
   "mimetype": "text/x-python",
   "name": "python",
   "nbconvert_exporter": "python",
   "pygments_lexer": "ipython3",
   "version": "3.6.2"
  }
 },
 "nbformat": 4,
 "nbformat_minor": 2
}
